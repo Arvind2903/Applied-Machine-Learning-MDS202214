{
 "cells": [
  {
   "cell_type": "code",
   "execution_count": 1,
   "metadata": {},
   "outputs": [],
   "source": [
    "import mlflow\n",
    "import mlflow.sklearn\n",
    "from sklearn.model_selection import train_test_split\n",
    "from sklearn.ensemble import RandomForestClassifier\n",
    "from xgboost import XGBClassifier\n",
    "from sklearn.linear_model import LogisticRegression\n",
    "from sklearn.metrics import roc_auc_score\n",
    "import pandas as pd\n",
    "from sklearn.pipeline import Pipeline\n",
    "from sklearn.feature_extraction.text import TfidfVectorizer"
   ]
  },
  {
   "cell_type": "code",
   "execution_count": 2,
   "metadata": {},
   "outputs": [],
   "source": [
    "train = pd.read_csv(\"train.csv\")\n",
    "X_train, y_train = train['text'], train['spam']\n",
    "\n",
    "test = pd.read_csv(\"test.csv\")\n",
    "X_test, y_test = test['text'], test['spam']"
   ]
  },
  {
   "cell_type": "code",
   "execution_count": 3,
   "metadata": {},
   "outputs": [],
   "source": [
    "# Function to train and log models with MLflow\n",
    "def train_and_log_model(model, model_name):\n",
    "    with mlflow.start_run():\n",
    "\n",
    "        pipeline = Pipeline([\n",
    "            ('tfidf', TfidfVectorizer(max_features=2000)),\n",
    "            ('clf', model),\n",
    "        ])\n",
    "        pipeline.fit(X_train, y_train)\n",
    "        \n",
    "        # Log the model\n",
    "        mlflow.sklearn.log_model(pipeline, model_name)\n",
    "        \n",
    "        # Evaluate and log metrics\n",
    "        y_pred = pipeline.predict_proba(X_test)[:, 1]\n",
    "        aucpr = roc_auc_score(y_test, y_pred)\n",
    "        mlflow.log_metric(\"AUCPR\", aucpr)\n",
    "        mlflow.log_params(pipeline.get_params())\n",
    "        mlflow.register_model(mlflow.get_artifact_uri(\"model\"),model_name)\n",
    "        \n",
    "        return aucpr"
   ]
  },
  {
   "cell_type": "code",
   "execution_count": 4,
   "metadata": {},
   "outputs": [
    {
     "name": "stderr",
     "output_type": "stream",
     "text": [
      "2024/02/23 16:42:10 INFO mlflow.tracking.fluent: Experiment with name 'experiment1_spamdetection' does not exist. Creating a new experiment.\n"
     ]
    },
    {
     "data": {
      "text/plain": [
       "<Experiment: artifact_location='file:///e:/VSCode/Applied%20ML/Assignment-2-DVC/mlruns/551097864478859455', creation_time=1708686730890, experiment_id='551097864478859455', last_update_time=1708686730890, lifecycle_stage='active', name='experiment1_spamdetection', tags={}>"
      ]
     },
     "execution_count": 4,
     "metadata": {},
     "output_type": "execute_result"
    }
   ],
   "source": [
    "mlflow.set_experiment(\"experiment1_spamdetection\")"
   ]
  },
  {
   "cell_type": "code",
   "execution_count": 5,
   "metadata": {},
   "outputs": [
    {
     "name": "stderr",
     "output_type": "stream",
     "text": [
      "Successfully registered model 'RandomForest'.\n",
      "Created version '1' of model 'RandomForest'.\n",
      "Successfully registered model 'XGBoost'.\n",
      "Created version '1' of model 'XGBoost'.\n"
     ]
    },
    {
     "name": "stdout",
     "output_type": "stream",
     "text": [
      "AUCPR for RandomForest: 0.9957066189624328\n",
      "AUCPR for XGBoost: 0.9970197959464506\n",
      "AUCPR for LogisticRegression: 0.9993827281841593\n"
     ]
    },
    {
     "name": "stderr",
     "output_type": "stream",
     "text": [
      "Successfully registered model 'LogisticRegression'.\n",
      "Created version '1' of model 'LogisticRegression'.\n"
     ]
    }
   ],
   "source": [
    "# Train and log the Random Forest model\n",
    "rf_model = RandomForestClassifier()\n",
    "rf_aucpr = train_and_log_model(rf_model, \"RandomForest\")\n",
    "\n",
    "# Train and log the XGBoost model\n",
    "xgb_model = XGBClassifier()\n",
    "xgb_aucpr = train_and_log_model(xgb_model, \"XGBoost\")\n",
    "\n",
    "# Train and log the Logistic Regression model\n",
    "lr_model = LogisticRegression()\n",
    "lr_aucpr = train_and_log_model(lr_model, \"LogisticRegression\")\n",
    "\n",
    "# Print AUCPR for each model\n",
    "print(f\"AUCPR for RandomForest: {rf_aucpr}\")\n",
    "print(f\"AUCPR for XGBoost: {xgb_aucpr}\")\n",
    "print(f\"AUCPR for LogisticRegression: {lr_aucpr}\")\n"
   ]
  }
 ],
 "metadata": {
  "kernelspec": {
   "display_name": "Python 3",
   "language": "python",
   "name": "python3"
  },
  "language_info": {
   "codemirror_mode": {
    "name": "ipython",
    "version": 3
   },
   "file_extension": ".py",
   "mimetype": "text/x-python",
   "name": "python",
   "nbconvert_exporter": "python",
   "pygments_lexer": "ipython3",
   "version": "3.12.1"
  }
 },
 "nbformat": 4,
 "nbformat_minor": 2
}
